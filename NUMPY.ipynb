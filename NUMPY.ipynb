{
 "cells": [
  {
   "cell_type": "code",
   "execution_count": 1,
   "id": "47593c38",
   "metadata": {},
   "outputs": [
    {
     "name": "stdout",
     "output_type": "stream",
     "text": [
      "Requirement already satisfied: numpy in c:\\users\\adity\\anaconda3\\lib\\site-packages (1.20.3)\n"
     ]
    }
   ],
   "source": [
    "! pip install numpy\n"
   ]
  },
  {
   "cell_type": "markdown",
   "id": "0b6a70c9",
   "metadata": {},
   "source": [
    "# CREATING NUMPY ARRAYS"
   ]
  },
  {
   "cell_type": "code",
   "execution_count": 8,
   "id": "61e638ae",
   "metadata": {},
   "outputs": [],
   "source": [
    "import numpy as np"
   ]
  },
  {
   "cell_type": "code",
   "execution_count": 3,
   "id": "f8ab9209",
   "metadata": {},
   "outputs": [
    {
     "data": {
      "text/plain": [
       "array([0, 1, 3, 5, 7, 9])"
      ]
     },
     "execution_count": 3,
     "metadata": {},
     "output_type": "execute_result"
    }
   ],
   "source": [
    "array_one = np.array([0,1,3,5,7,9])\n",
    "array_one"
   ]
  },
  {
   "cell_type": "code",
   "execution_count": 4,
   "id": "c7e24d19",
   "metadata": {},
   "outputs": [
    {
     "data": {
      "text/plain": [
       "array([11, 22, 33, 44, 55, 66, 77, 88, 99])"
      ]
     },
     "execution_count": 4,
     "metadata": {},
     "output_type": "execute_result"
    }
   ],
   "source": [
    "nums = [11,22,33,44,55,66,77,88,99]\n",
    "array_two = np.array(nums)\n",
    "array_two"
   ]
  },
  {
   "cell_type": "markdown",
   "id": "7503ffbd",
   "metadata": {},
   "source": [
    "# NUMPY FUNCTIONS"
   ]
  },
  {
   "cell_type": "markdown",
   "id": "3f68196d",
   "metadata": {},
   "source": [
    "###### creating array of ones with 2 rows & 3 columns where (2,3) are arguments passed for zeros function.\n"
   ]
  },
  {
   "cell_type": "markdown",
   "id": "f665f32c",
   "metadata": {},
   "source": [
    "\n",
    "\n",
    "array_of_zeroes = np.zeros((2,3))  \n",
    "array_of_zeroes"
   ]
  },
  {
   "cell_type": "markdown",
   "id": "863afc41",
   "metadata": {},
   "source": [
    "###### creating array of ones with 3 rows & 2 columns where (3,2) are arguments passed for zeros function.\n"
   ]
  },
  {
   "cell_type": "markdown",
   "id": "252fb7c6",
   "metadata": {},
   "source": [
    "\n",
    "array_of_ones = np.ones((3,2))\n",
    "array_of_ones"
   ]
  },
  {
   "cell_type": "markdown",
   "id": "30e68a22",
   "metadata": {},
   "source": [
    "###### So in above function each of the values are of type FLOAT so to avoid it....\n"
   ]
  },
  {
   "cell_type": "markdown",
   "id": "69e3ba07",
   "metadata": {},
   "source": [
    "\n",
    "array_of_ones = np.ones((3,2)) , dtype = (np.int32)\n",
    "array_of_ones"
   ]
  },
  {
   "cell_type": "markdown",
   "id": "faea037f",
   "metadata": {},
   "source": [
    "###### it is an array of empty values but it takes values of ones\n"
   ]
  },
  {
   "cell_type": "markdown",
   "id": "bc010c67",
   "metadata": {},
   "source": [
    "\n",
    "array_empty = np.empty((3,2))\n",
    "array_empty"
   ]
  },
  {
   "cell_type": "markdown",
   "id": "2b9d3104",
   "metadata": {},
   "source": [
    "###### it is an array of 4 rows and columns with diagonal values to be one\n"
   ]
  },
  {
   "cell_type": "markdown",
   "id": "0f450016",
   "metadata": {},
   "source": [
    "\n",
    "array_eye = np.eye(4)\n",
    "array_eye"
   ]
  },
  {
   "cell_type": "markdown",
   "id": "eda5e2d6",
   "metadata": {},
   "source": [
    "###### arange if a function where array has a range, (2,24,2) are arguments for the function where 2 to 24 is the range with gap of 2(i.e last 2 of argument)\n"
   ]
  },
  {
   "cell_type": "markdown",
   "id": "8d0a3665",
   "metadata": {},
   "source": [
    "\n",
    "array_evens = np.arange(2,24,2)\n",
    "array_evens"
   ]
  },
  {
   "cell_type": "markdown",
   "id": "c4d36547",
   "metadata": {},
   "source": [
    "###### arange funtion does not only take \"int\" as arguments but it also takes floating point as values\n"
   ]
  },
  {
   "cell_type": "markdown",
   "id": "d939f6d3",
   "metadata": {},
   "source": [
    "\n",
    "array_float = np.arange(1,3,0.2)\n",
    "array_float"
   ]
  },
  {
   "cell_type": "markdown",
   "id": "e3cff617",
   "metadata": {},
   "source": [
    "###### it is an array formed with the help of 2 tuples\n"
   ]
  },
  {
   "cell_type": "markdown",
   "id": "0ea721f1",
   "metadata": {},
   "source": [
    "\n",
    "array_2D = np.array([(1,2,3),(4,5,6)])\n",
    "array_2D"
   ]
  },
  {
   "cell_type": "markdown",
   "id": "82ab21e6",
   "metadata": {},
   "source": [
    "###### shape is used to check size of an array\n"
   ]
  },
  {
   "cell_type": "markdown",
   "id": "429b9cec",
   "metadata": {},
   "source": [
    "\n",
    "array_2D.shape"
   ]
  },
  {
   "cell_type": "markdown",
   "id": "deb18128",
   "metadata": {},
   "source": [
    "###### it is an range of an array where 8 is an upper values and 0 is set as default values with default gap as 1\n"
   ]
  },
  {
   "cell_type": "markdown",
   "id": "470f81e6",
   "metadata": {},
   "source": [
    "\n",
    "np.arange(8)"
   ]
  },
  {
   "cell_type": "markdown",
   "id": "497d5fe0",
   "metadata": {},
   "source": [
    "###### here reshape function is used to reshape array of range 8 to array with 2 rows and 4 colummns\n"
   ]
  },
  {
   "cell_type": "markdown",
   "id": "98c36921",
   "metadata": {},
   "source": [
    "#(here size of range needs to be accurate to fit in reshaped array or it will cause an error)\n",
    "\n",
    "\n",
    "array_nd = np.arange(8).reshape(2,4)\n",
    "array_nd"
   ]
  },
  {
   "cell_type": "markdown",
   "id": "88cd3f76",
   "metadata": {},
   "source": [
    "###### here this function is used to create array of ones but the arugment here means that array of ones need to be created just like array_nd but with values 1\n"
   ]
  },
  {
   "cell_type": "markdown",
   "id": "eac4a093",
   "metadata": {},
   "source": [
    "\n",
    "array_ones = np.ones_like(array_nd)\n",
    "array_ones"
   ]
  },
  {
   "cell_type": "markdown",
   "id": "f5ba83f3",
   "metadata": {},
   "source": [
    "# PRINTING ARRAYS\n"
   ]
  },
  {
   "cell_type": "markdown",
   "id": "7a3f2be8",
   "metadata": {},
   "source": [
    "###### printing one dimensional array\n"
   ]
  },
  {
   "cell_type": "markdown",
   "id": "681cf2f4",
   "metadata": {},
   "source": [
    "\n",
    "x = np.arange(8)\n",
    "print(x)"
   ]
  },
  {
   "cell_type": "markdown",
   "id": "fe9bfa47",
   "metadata": {},
   "source": [
    "###### printing two dimensional array\n"
   ]
  },
  {
   "cell_type": "markdown",
   "id": "1a9bc77c",
   "metadata": {},
   "source": [
    "\n",
    "y = np.arange(16).reshape(4,4)\n",
    "print(y)"
   ]
  },
  {
   "cell_type": "markdown",
   "id": "1760c517",
   "metadata": {},
   "source": [
    "###### printing three dimensional array\n"
   ]
  },
  {
   "cell_type": "markdown",
   "id": "d0dcb6d4",
   "metadata": {},
   "source": [
    "\n",
    "z = np.arange(36).reshape(3,4,3)\n",
    "print(z)"
   ]
  },
  {
   "cell_type": "markdown",
   "id": "a8ca8773",
   "metadata": {},
   "source": [
    "###### printing large size array\n"
   ]
  },
  {
   "cell_type": "markdown",
   "id": "8f01d3f9",
   "metadata": {},
   "source": [
    "\n",
    "np.arange(12100)"
   ]
  },
  {
   "cell_type": "code",
   "execution_count": 24,
   "id": "45e8f337",
   "metadata": {},
   "outputs": [
    {
     "name": "stdout",
     "output_type": "stream",
     "text": [
      "[[    0     1     2 ...   107   108   109]\n",
      " [  110   111   112 ...   217   218   219]\n",
      " [  220   221   222 ...   327   328   329]\n",
      " ...\n",
      " [11770 11771 11772 ... 11877 11878 11879]\n",
      " [11880 11881 11882 ... 11987 11988 11989]\n",
      " [11990 11991 11992 ... 12097 12098 12099]]\n"
     ]
    }
   ],
   "source": [
    "print(np.arange (12100).reshape(110,110))"
   ]
  },
  {
   "cell_type": "code",
   "execution_count": 25,
   "id": "3865456d",
   "metadata": {},
   "outputs": [
    {
     "ename": "ValueError",
     "evalue": "threshold must be non-NAN, try sys.maxsize for untruncated representation",
     "output_type": "error",
     "traceback": [
      "\u001b[1;31m---------------------------------------------------------------------------\u001b[0m",
      "\u001b[1;31mValueError\u001b[0m                                Traceback (most recent call last)",
      "\u001b[1;32m~\\AppData\\Local\\Temp/ipykernel_12540/3986061480.py\u001b[0m in \u001b[0;36m<module>\u001b[1;34m\u001b[0m\n\u001b[1;32m----> 1\u001b[1;33m \u001b[0mnp\u001b[0m\u001b[1;33m.\u001b[0m\u001b[0mset_printoptions\u001b[0m\u001b[1;33m(\u001b[0m\u001b[0mthreshold\u001b[0m \u001b[1;33m=\u001b[0m \u001b[0mnp\u001b[0m\u001b[1;33m.\u001b[0m\u001b[0mnan\u001b[0m\u001b[1;33m)\u001b[0m\u001b[1;33m\u001b[0m\u001b[1;33m\u001b[0m\u001b[0m\n\u001b[0m\u001b[0;32m      2\u001b[0m \u001b[0mprint\u001b[0m\u001b[1;33m(\u001b[0m\u001b[0mnp\u001b[0m\u001b[1;33m.\u001b[0m\u001b[0marange\u001b[0m\u001b[1;33m(\u001b[0m\u001b[1;36m12100\u001b[0m\u001b[1;33m)\u001b[0m\u001b[1;33m.\u001b[0m\u001b[0mreshape\u001b[0m\u001b[1;33m(\u001b[0m\u001b[1;36m110\u001b[0m\u001b[1;33m,\u001b[0m\u001b[1;36m110\u001b[0m\u001b[1;33m)\u001b[0m\u001b[1;33m)\u001b[0m\u001b[1;33m\u001b[0m\u001b[1;33m\u001b[0m\u001b[0m\n",
      "\u001b[1;32m~\\anaconda3\\lib\\site-packages\\numpy\\core\\arrayprint.py\u001b[0m in \u001b[0;36mset_printoptions\u001b[1;34m(precision, threshold, edgeitems, linewidth, suppress, nanstr, infstr, formatter, sign, floatmode, legacy)\u001b[0m\n\u001b[0;32m    241\u001b[0m \u001b[1;33m\u001b[0m\u001b[0m\n\u001b[0;32m    242\u001b[0m     \"\"\"\n\u001b[1;32m--> 243\u001b[1;33m     opt = _make_options_dict(precision, threshold, edgeitems, linewidth,\n\u001b[0m\u001b[0;32m    244\u001b[0m                              \u001b[0msuppress\u001b[0m\u001b[1;33m,\u001b[0m \u001b[0mnanstr\u001b[0m\u001b[1;33m,\u001b[0m \u001b[0minfstr\u001b[0m\u001b[1;33m,\u001b[0m \u001b[0msign\u001b[0m\u001b[1;33m,\u001b[0m \u001b[0mformatter\u001b[0m\u001b[1;33m,\u001b[0m\u001b[1;33m\u001b[0m\u001b[1;33m\u001b[0m\u001b[0m\n\u001b[0;32m    245\u001b[0m                              floatmode, legacy)\n",
      "\u001b[1;32m~\\anaconda3\\lib\\site-packages\\numpy\\core\\arrayprint.py\u001b[0m in \u001b[0;36m_make_options_dict\u001b[1;34m(precision, threshold, edgeitems, linewidth, suppress, nanstr, infstr, sign, formatter, floatmode, legacy)\u001b[0m\n\u001b[0;32m     84\u001b[0m             \u001b[1;32mraise\u001b[0m \u001b[0mTypeError\u001b[0m\u001b[1;33m(\u001b[0m\u001b[1;34m\"threshold must be numeric\"\u001b[0m\u001b[1;33m)\u001b[0m\u001b[1;33m\u001b[0m\u001b[1;33m\u001b[0m\u001b[0m\n\u001b[0;32m     85\u001b[0m         \u001b[1;32mif\u001b[0m \u001b[0mnp\u001b[0m\u001b[1;33m.\u001b[0m\u001b[0misnan\u001b[0m\u001b[1;33m(\u001b[0m\u001b[0mthreshold\u001b[0m\u001b[1;33m)\u001b[0m\u001b[1;33m:\u001b[0m\u001b[1;33m\u001b[0m\u001b[1;33m\u001b[0m\u001b[0m\n\u001b[1;32m---> 86\u001b[1;33m             raise ValueError(\"threshold must be non-NAN, try \"\n\u001b[0m\u001b[0;32m     87\u001b[0m                              \"sys.maxsize for untruncated representation\")\n\u001b[0;32m     88\u001b[0m     \u001b[1;32mreturn\u001b[0m \u001b[0moptions\u001b[0m\u001b[1;33m\u001b[0m\u001b[1;33m\u001b[0m\u001b[0m\n",
      "\u001b[1;31mValueError\u001b[0m: threshold must be non-NAN, try sys.maxsize for untruncated representation"
     ]
    }
   ],
   "source": [
    "np.set_printoptions(threshold = np.nan)\n",
    "print(np.arange(12100).reshape(110,110))"
   ]
  },
  {
   "cell_type": "code",
   "execution_count": 26,
   "id": "d2c7fbd2",
   "metadata": {},
   "outputs": [
    {
     "name": "stdout",
     "output_type": "stream",
     "text": [
      "[[ 0  1  2  3  4  5  6  7  8  9]\n",
      " [10 11 12 13 14 15 16 17 18 19]\n",
      " [20 21 22 23 24 25 26 27 28 29]\n",
      " [30 31 32 33 34 35 36 37 38 39]\n",
      " [40 41 42 43 44 45 46 47 48 49]\n",
      " [50 51 52 53 54 55 56 57 58 59]\n",
      " [60 61 62 63 64 65 66 67 68 69]\n",
      " [70 71 72 73 74 75 76 77 78 79]\n",
      " [80 81 82 83 84 85 86 87 88 89]\n",
      " [90 91 92 93 94 95 96 97 98 99]]\n"
     ]
    }
   ],
   "source": [
    "print(np.arange(100).reshape(10,10))"
   ]
  },
  {
   "cell_type": "code",
   "execution_count": 27,
   "id": "a6ab0123",
   "metadata": {},
   "outputs": [
    {
     "ename": "TypeError",
     "evalue": "set_printoptions() got an unexpected keyword argument 'thershold'",
     "output_type": "error",
     "traceback": [
      "\u001b[1;31m---------------------------------------------------------------------------\u001b[0m",
      "\u001b[1;31mTypeError\u001b[0m                                 Traceback (most recent call last)",
      "\u001b[1;32m~\\AppData\\Local\\Temp/ipykernel_12540/893220701.py\u001b[0m in \u001b[0;36m<module>\u001b[1;34m\u001b[0m\n\u001b[1;32m----> 1\u001b[1;33m \u001b[0mnp\u001b[0m\u001b[1;33m.\u001b[0m\u001b[0mset_printoptions\u001b[0m\u001b[1;33m(\u001b[0m\u001b[0mthershold\u001b[0m \u001b[1;33m=\u001b[0m \u001b[1;36m50\u001b[0m\u001b[1;33m)\u001b[0m\u001b[1;33m\u001b[0m\u001b[1;33m\u001b[0m\u001b[0m\n\u001b[0m\u001b[0;32m      2\u001b[0m \u001b[0mprint\u001b[0m\u001b[1;33m(\u001b[0m\u001b[0mnp\u001b[0m\u001b[1;33m.\u001b[0m\u001b[0marange\u001b[0m\u001b[1;33m(\u001b[0m\u001b[1;36m100\u001b[0m\u001b[1;33m)\u001b[0m\u001b[1;33m.\u001b[0m\u001b[0mreshape\u001b[0m\u001b[1;33m(\u001b[0m\u001b[1;36m10\u001b[0m\u001b[1;33m,\u001b[0m\u001b[1;36m10\u001b[0m\u001b[1;33m)\u001b[0m\u001b[1;33m)\u001b[0m\u001b[1;33m\u001b[0m\u001b[1;33m\u001b[0m\u001b[0m\n",
      "\u001b[1;31mTypeError\u001b[0m: set_printoptions() got an unexpected keyword argument 'thershold'"
     ]
    }
   ],
   "source": [
    "np.set_printoptions(thershold = 50)\n",
    "print(np.arange(100).reshape(10,10))"
   ]
  },
  {
   "cell_type": "markdown",
   "id": "80ee5c34",
   "metadata": {},
   "source": [
    "# NUMPY BASIC OPERATIONS\n"
   ]
  },
  {
   "cell_type": "code",
   "execution_count": 28,
   "id": "a6cccf39",
   "metadata": {},
   "outputs": [],
   "source": [
    "p = np.array([2,3,4])\n",
    "q = np.array([4,5,6])"
   ]
  },
  {
   "cell_type": "markdown",
   "id": "8ba8daf3",
   "metadata": {},
   "source": [
    "###### additon operation (element wise addition:2+4;3+5;4+6)"
   ]
  },
  {
   "cell_type": "markdown",
   "id": "0a845e4c",
   "metadata": {},
   "source": [
    "p + q"
   ]
  },
  {
   "cell_type": "markdown",
   "id": "f41614de",
   "metadata": {},
   "source": [
    "###### substraction operation (element wise substraction: 2-4;3-5;4-6)"
   ]
  },
  {
   "cell_type": "markdown",
   "id": "bc0d353f",
   "metadata": {},
   "source": [
    "p - q"
   ]
  },
  {
   "cell_type": "code",
   "execution_count": 33,
   "id": "11fc96c0",
   "metadata": {},
   "outputs": [
    {
     "name": "stdout",
     "output_type": "stream",
     "text": [
      "[ 8 15 24]\n",
      "[2 3 4]\n",
      "[0.5        0.6        0.66666667]\n"
     ]
    }
   ],
   "source": [
    "print(p * q)\n",
    "print(p % q)\n",
    "print(p / q)   #other operations like multiply,mode, division"
   ]
  },
  {
   "cell_type": "markdown",
   "id": "9a5a121d",
   "metadata": {},
   "source": [
    "###### operation with scaler quantity\n"
   ]
  },
  {
   "cell_type": "markdown",
   "id": "d5f69fbe",
   "metadata": {},
   "source": [
    "\n",
    "p % 2"
   ]
  },
  {
   "cell_type": "code",
   "execution_count": 35,
   "id": "654bcd81",
   "metadata": {},
   "outputs": [
    {
     "data": {
      "text/plain": [
       "array([False, False, False])"
      ]
     },
     "execution_count": 35,
     "metadata": {},
     "output_type": "execute_result"
    }
   ],
   "source": [
    "p > 8"
   ]
  },
  {
   "cell_type": "code",
   "execution_count": 36,
   "id": "9dd32b12",
   "metadata": {},
   "outputs": [
    {
     "data": {
      "text/plain": [
       "array([ True,  True,  True])"
      ]
     },
     "execution_count": 36,
     "metadata": {},
     "output_type": "execute_result"
    }
   ],
   "source": [
    "p < 5"
   ]
  },
  {
   "cell_type": "markdown",
   "id": "4e6bcf4c",
   "metadata": {},
   "source": [
    "###### operations with two dimensional arrays"
   ]
  },
  {
   "cell_type": "code",
   "execution_count": 38,
   "id": "31905827",
   "metadata": {},
   "outputs": [
    {
     "name": "stdout",
     "output_type": "stream",
     "text": [
      "x:\n",
      " [[1 2 3]\n",
      " [4 5 6]]\n",
      "y:\n",
      " [[1 3 5]\n",
      " [6 8 9]]\n"
     ]
    }
   ],
   "source": [
    "x = np.array([(1,2,3),(4,5,6)])\n",
    "y = np.array([(1,3,5),(6,8,9)])\n",
    "\n",
    "print('x:\\n',x)\n",
    "print('y:\\n',y)"
   ]
  },
  {
   "cell_type": "code",
   "execution_count": 39,
   "id": "a4926985",
   "metadata": {},
   "outputs": [
    {
     "name": "stdout",
     "output_type": "stream",
     "text": [
      "[[ 2  5  8]\n",
      " [10 13 15]]\n",
      "[[ 0 -1 -2]\n",
      " [-2 -3 -3]]\n",
      "[[ 1  6 15]\n",
      " [24 40 54]]\n",
      "[[0 2 3]\n",
      " [4 5 6]]\n"
     ]
    }
   ],
   "source": [
    "print(x + y)\n",
    "print(x - y)\n",
    "print(x * y)     \n",
    "print(x % y)     #element wise operation is being done"
   ]
  },
  {
   "cell_type": "markdown",
   "id": "7ab14f20",
   "metadata": {},
   "source": [
    "###### dot function for dot product"
   ]
  },
  {
   "cell_type": "code",
   "execution_count": 40,
   "id": "84c2adb4",
   "metadata": {},
   "outputs": [
    {
     "ename": "ValueError",
     "evalue": "shapes (2,3) and (2,3) not aligned: 3 (dim 1) != 2 (dim 0)",
     "output_type": "error",
     "traceback": [
      "\u001b[1;31m---------------------------------------------------------------------------\u001b[0m",
      "\u001b[1;31mValueError\u001b[0m                                Traceback (most recent call last)",
      "\u001b[1;32m~\\AppData\\Local\\Temp/ipykernel_12540/1766704101.py\u001b[0m in \u001b[0;36m<module>\u001b[1;34m\u001b[0m\n\u001b[1;32m----> 1\u001b[1;33m \u001b[0mx\u001b[0m\u001b[1;33m.\u001b[0m\u001b[0mdot\u001b[0m\u001b[1;33m(\u001b[0m\u001b[0my\u001b[0m\u001b[1;33m)\u001b[0m\u001b[1;33m\u001b[0m\u001b[1;33m\u001b[0m\u001b[0m\n\u001b[0m",
      "\u001b[1;31mValueError\u001b[0m: shapes (2,3) and (2,3) not aligned: 3 (dim 1) != 2 (dim 0)"
     ]
    }
   ],
   "source": [
    "x.dot(y)"
   ]
  },
  {
   "cell_type": "code",
   "execution_count": 41,
   "id": "38f53636",
   "metadata": {},
   "outputs": [
    {
     "ename": "ValueError",
     "evalue": "shapes (2,3) and (2,3) not aligned: 3 (dim 1) != 2 (dim 0)",
     "output_type": "error",
     "traceback": [
      "\u001b[1;31m---------------------------------------------------------------------------\u001b[0m",
      "\u001b[1;31mValueError\u001b[0m                                Traceback (most recent call last)",
      "\u001b[1;32m~\\AppData\\Local\\Temp/ipykernel_12540/714292799.py\u001b[0m in \u001b[0;36m<module>\u001b[1;34m\u001b[0m\n\u001b[1;32m----> 1\u001b[1;33m \u001b[0mnp\u001b[0m\u001b[1;33m.\u001b[0m\u001b[0mdot\u001b[0m\u001b[1;33m(\u001b[0m\u001b[0mx\u001b[0m\u001b[1;33m,\u001b[0m\u001b[0my\u001b[0m\u001b[1;33m)\u001b[0m\u001b[1;33m\u001b[0m\u001b[1;33m\u001b[0m\u001b[0m\n\u001b[0m",
      "\u001b[1;32m<__array_function__ internals>\u001b[0m in \u001b[0;36mdot\u001b[1;34m(*args, **kwargs)\u001b[0m\n",
      "\u001b[1;31mValueError\u001b[0m: shapes (2,3) and (2,3) not aligned: 3 (dim 1) != 2 (dim 0)"
     ]
    }
   ],
   "source": [
    "np.dot(x,y)"
   ]
  },
  {
   "cell_type": "markdown",
   "id": "72baab51",
   "metadata": {},
   "source": [
    "###### aggregate operations"
   ]
  },
  {
   "cell_type": "markdown",
   "id": "74ea7398",
   "metadata": {},
   "source": [
    "###### for one dimesional array"
   ]
  },
  {
   "cell_type": "code",
   "execution_count": 42,
   "id": "c03818d5",
   "metadata": {},
   "outputs": [],
   "source": [
    "fleet_milage = np.array([14130, 37234, 21892, 11479, 6890, 27981])"
   ]
  },
  {
   "cell_type": "code",
   "execution_count": 43,
   "id": "a2886cca",
   "metadata": {},
   "outputs": [
    {
     "data": {
      "text/plain": [
       "119606"
      ]
     },
     "execution_count": 43,
     "metadata": {},
     "output_type": "execute_result"
    }
   ],
   "source": [
    "#sum of an array\n",
    "\n",
    "fleet_milage.sum()"
   ]
  },
  {
   "cell_type": "code",
   "execution_count": 44,
   "id": "c9e421d2",
   "metadata": {},
   "outputs": [
    {
     "data": {
      "text/plain": [
       "6890"
      ]
     },
     "execution_count": 44,
     "metadata": {},
     "output_type": "execute_result"
    }
   ],
   "source": [
    "#min value of an array\n",
    "\n",
    "fleet_milage.min()"
   ]
  },
  {
   "cell_type": "code",
   "execution_count": 45,
   "id": "1541ab03",
   "metadata": {},
   "outputs": [
    {
     "data": {
      "text/plain": [
       "37234"
      ]
     },
     "execution_count": 45,
     "metadata": {},
     "output_type": "execute_result"
    }
   ],
   "source": [
    "#max value of an array\n",
    "\n",
    "fleet_milage.max()"
   ]
  },
  {
   "cell_type": "code",
   "execution_count": 46,
   "id": "211e5e9a",
   "metadata": {},
   "outputs": [
    {
     "data": {
      "text/plain": [
       "19934.333333333332"
      ]
     },
     "execution_count": 46,
     "metadata": {},
     "output_type": "execute_result"
    }
   ],
   "source": [
    "#average value of an array(mean)\n",
    "\n",
    "fleet_milage.mean()"
   ]
  },
  {
   "cell_type": "markdown",
   "id": "c119e567",
   "metadata": {},
   "source": [
    "###### for two dimensional array"
   ]
  },
  {
   "cell_type": "code",
   "execution_count": 47,
   "id": "40d59dfa",
   "metadata": {},
   "outputs": [
    {
     "data": {
      "text/plain": [
       "array([[ 0,  1,  2,  3],\n",
       "       [ 4,  5,  6,  7],\n",
       "       [ 8,  9, 10, 11],\n",
       "       [12, 13, 14, 15]])"
      ]
     },
     "execution_count": 47,
     "metadata": {},
     "output_type": "execute_result"
    }
   ],
   "source": [
    "num = np.arange(16).reshape(4,4)\n",
    "num"
   ]
  },
  {
   "cell_type": "code",
   "execution_count": 48,
   "id": "14eb4c90",
   "metadata": {},
   "outputs": [
    {
     "data": {
      "text/plain": [
       "120"
      ]
     },
     "execution_count": 48,
     "metadata": {},
     "output_type": "execute_result"
    }
   ],
   "source": [
    "#sum fucntion (it sums up all the values of the 2d array)\n",
    "\n",
    "num.sum()"
   ]
  },
  {
   "cell_type": "code",
   "execution_count": 49,
   "id": "3b3fee89",
   "metadata": {},
   "outputs": [
    {
     "data": {
      "text/plain": [
       "array([24, 28, 32, 36])"
      ]
     },
     "execution_count": 49,
     "metadata": {},
     "output_type": "execute_result"
    }
   ],
   "source": [
    "#sum fuction to sum up values of each of the column\n",
    "\n",
    "num.sum(axis = 0)"
   ]
  },
  {
   "cell_type": "code",
   "execution_count": 50,
   "id": "c1b0b272",
   "metadata": {},
   "outputs": [
    {
     "data": {
      "text/plain": [
       "array([ 6, 22, 38, 54])"
      ]
     },
     "execution_count": 50,
     "metadata": {},
     "output_type": "execute_result"
    }
   ],
   "source": [
    "#sum fuction to sum up values of each of the rows\n",
    "\n",
    "num.sum(axis = 1)"
   ]
  },
  {
   "cell_type": "code",
   "execution_count": 51,
   "id": "4561ca13",
   "metadata": {},
   "outputs": [
    {
     "data": {
      "text/plain": [
       "array([ 0,  4,  8, 12])"
      ]
     },
     "execution_count": 51,
     "metadata": {},
     "output_type": "execute_result"
    }
   ],
   "source": [
    "#aggregate funnctions for 2D array\n",
    "\n",
    "#min values of each row\n",
    "\n",
    "num.min(axis = 1)"
   ]
  },
  {
   "cell_type": "code",
   "execution_count": 52,
   "id": "fdb0d99e",
   "metadata": {},
   "outputs": [
    {
     "data": {
      "text/plain": [
       "array([ 1.5,  5.5,  9.5, 13.5])"
      ]
     },
     "execution_count": 52,
     "metadata": {},
     "output_type": "execute_result"
    }
   ],
   "source": [
    "#mean for each of the row\n",
    "\n",
    "num.mean(axis = 1)"
   ]
  },
  {
   "cell_type": "markdown",
   "id": "73677247",
   "metadata": {},
   "source": [
    "# Universal Function\n"
   ]
  },
  {
   "cell_type": "code",
   "execution_count": 54,
   "id": "46c69010",
   "metadata": {},
   "outputs": [],
   "source": [
    "circle_radii = np.array([145, 120, 90, 60, 45, 30])\n"
   ]
  },
  {
   "cell_type": "code",
   "execution_count": 55,
   "id": "7a7b191d",
   "metadata": {},
   "outputs": [
    {
     "data": {
      "text/plain": [
       "array([290, 240, 180, 120,  90,  60])"
      ]
     },
     "execution_count": 55,
     "metadata": {},
     "output_type": "execute_result"
    }
   ],
   "source": [
    "circle_diameter = 2 * circle_radii\n",
    "\n",
    "circle_diameter"
   ]
  },
  {
   "cell_type": "markdown",
   "id": "20024ecf",
   "metadata": {},
   "source": [
    "###### universal constant pi is used"
   ]
  },
  {
   "cell_type": "code",
   "execution_count": 57,
   "id": "1e5371ca",
   "metadata": {},
   "outputs": [
    {
     "data": {
      "text/plain": [
       "array([66051.98554173, 45238.93421169, 25446.90049408, 11309.73355292,\n",
       "        6361.72512352,  2827.43338823])"
      ]
     },
     "execution_count": 57,
     "metadata": {},
     "output_type": "execute_result"
    }
   ],
   "source": [
    "circle_area = np.pi * circle_radii ** 2\n",
    "\n",
    "circle_area   "
   ]
  },
  {
   "cell_type": "code",
   "execution_count": 58,
   "id": "1a322c4d",
   "metadata": {},
   "outputs": [],
   "source": [
    "angle_degree = np.array([0, 30, 60, 90, 150, 180])"
   ]
  },
  {
   "cell_type": "code",
   "execution_count": 60,
   "id": "7dd85d82",
   "metadata": {},
   "outputs": [
    {
     "data": {
      "text/plain": [
       "array([0.        , 0.52359878, 1.04719755, 1.57079633, 2.61799388,\n",
       "       3.14159265])"
      ]
     },
     "execution_count": 60,
     "metadata": {},
     "output_type": "execute_result"
    }
   ],
   "source": [
    "angle_radians = angle_degree * np.pi /180\n",
    "angle_radians"
   ]
  },
  {
   "cell_type": "markdown",
   "id": "74df03eb",
   "metadata": {},
   "source": [
    "###### sine values function"
   ]
  },
  {
   "cell_type": "code",
   "execution_count": 64,
   "id": "c7c8b9ab",
   "metadata": {},
   "outputs": [
    {
     "name": "stdout",
     "output_type": "stream",
     "text": [
      "sin values: \n"
     ]
    },
    {
     "data": {
      "text/plain": [
       "array([0.00000000e+00, 5.00000000e-01, 8.66025404e-01, 1.00000000e+00,\n",
       "       5.00000000e-01, 1.22464680e-16])"
      ]
     },
     "execution_count": 64,
     "metadata": {},
     "output_type": "execute_result"
    }
   ],
   "source": [
    "print(\"sin values: \")\n",
    "np.sin(angle_radians)"
   ]
  },
  {
   "cell_type": "markdown",
   "id": "e3cdedc9",
   "metadata": {},
   "source": [
    "###### cosine values function"
   ]
  },
  {
   "cell_type": "code",
   "execution_count": 65,
   "id": "18a54445",
   "metadata": {},
   "outputs": [
    {
     "name": "stdout",
     "output_type": "stream",
     "text": [
      "cosine values: \n"
     ]
    },
    {
     "data": {
      "text/plain": [
       "array([ 1.00000000e+00,  8.66025404e-01,  5.00000000e-01,  6.12323400e-17,\n",
       "       -8.66025404e-01, -1.00000000e+00])"
      ]
     },
     "execution_count": 65,
     "metadata": {},
     "output_type": "execute_result"
    }
   ],
   "source": [
    "print(\"cosine values: \")\n",
    "np.cos(angle_radians)"
   ]
  },
  {
   "cell_type": "markdown",
   "id": "da8b67ff",
   "metadata": {},
   "source": [
    "###### tan values function"
   ]
  },
  {
   "cell_type": "code",
   "execution_count": 66,
   "id": "ef1ec12e",
   "metadata": {},
   "outputs": [
    {
     "name": "stdout",
     "output_type": "stream",
     "text": [
      "tan value: \n"
     ]
    },
    {
     "data": {
      "text/plain": [
       "array([ 0.00000000e+00,  5.77350269e-01,  1.73205081e+00,  1.63312394e+16,\n",
       "       -5.77350269e-01, -1.22464680e-16])"
      ]
     },
     "execution_count": 66,
     "metadata": {},
     "output_type": "execute_result"
    }
   ],
   "source": [
    "print(\"tan value: \")\n",
    "np.tan(angle_radians)"
   ]
  },
  {
   "cell_type": "code",
   "execution_count": 67,
   "id": "9afa7767",
   "metadata": {},
   "outputs": [],
   "source": [
    "sine_values = np.sin(angle_radians)"
   ]
  },
  {
   "cell_type": "markdown",
   "id": "ec8b92a3",
   "metadata": {},
   "source": [
    "###### inverse sine value function (arcsin)"
   ]
  },
  {
   "cell_type": "code",
   "execution_count": 71,
   "id": "f1b7cd41",
   "metadata": {},
   "outputs": [
    {
     "data": {
      "text/plain": [
       "array([0.00000000e+00, 5.23598776e-01, 1.04719755e+00, 1.57079633e+00,\n",
       "       5.23598776e-01, 1.22464680e-16])"
      ]
     },
     "execution_count": 71,
     "metadata": {},
     "output_type": "execute_result"
    }
   ],
   "source": [
    "arcsine_values = np.arcsin(sine_values)\n",
    "arcsine_values"
   ]
  },
  {
   "cell_type": "markdown",
   "id": "4535b25e",
   "metadata": {},
   "source": [
    "###### exponential functions"
   ]
  },
  {
   "cell_type": "code",
   "execution_count": 72,
   "id": "9773bcc2",
   "metadata": {},
   "outputs": [
    {
     "data": {
      "text/plain": [
       "array([ 4,  9, 14, 19, 24, 29])"
      ]
     },
     "execution_count": 72,
     "metadata": {},
     "output_type": "execute_result"
    }
   ],
   "source": [
    "x = np.arange(4,31,5)\n",
    "\n",
    "x"
   ]
  },
  {
   "cell_type": "code",
   "execution_count": 74,
   "id": "ab96c503",
   "metadata": {},
   "outputs": [
    {
     "data": {
      "text/plain": [
       "array([5.45981500e+01, 8.10308393e+03, 1.20260428e+06, 1.78482301e+08,\n",
       "       2.64891221e+10, 3.93133430e+12])"
      ]
     },
     "execution_count": 74,
     "metadata": {},
     "output_type": "execute_result"
    }
   ],
   "source": [
    "expo = np.exp(x)\n",
    "\n",
    "expo"
   ]
  },
  {
   "cell_type": "markdown",
   "id": "838fc001",
   "metadata": {},
   "source": [
    "###### square root function"
   ]
  },
  {
   "cell_type": "code",
   "execution_count": 75,
   "id": "9051c29a",
   "metadata": {},
   "outputs": [
    {
     "data": {
      "text/plain": [
       "array([2.        , 3.        , 3.74165739, 4.35889894, 4.89897949,\n",
       "       5.38516481])"
      ]
     },
     "execution_count": 75,
     "metadata": {},
     "output_type": "execute_result"
    }
   ],
   "source": [
    "sqrt = np.sqrt(x)\n",
    "\n",
    "sqrt"
   ]
  },
  {
   "cell_type": "markdown",
   "id": "3fe2c1dd",
   "metadata": {},
   "source": [
    "###### median function"
   ]
  },
  {
   "cell_type": "code",
   "execution_count": 76,
   "id": "93abaaa7",
   "metadata": {},
   "outputs": [
    {
     "data": {
      "text/plain": [
       "16.5"
      ]
     },
     "execution_count": 76,
     "metadata": {},
     "output_type": "execute_result"
    }
   ],
   "source": [
    "np.median(x)"
   ]
  },
  {
   "cell_type": "markdown",
   "id": "878686d8",
   "metadata": {},
   "source": [
    "# Indexing and Slicing"
   ]
  },
  {
   "cell_type": "markdown",
   "id": "89192d49",
   "metadata": {},
   "source": [
    "###### access element with index no"
   ]
  },
  {
   "cell_type": "code",
   "execution_count": 77,
   "id": "46929088",
   "metadata": {},
   "outputs": [
    {
     "data": {
      "text/plain": [
       "array([  0,   1,   8,  27,  64, 125, 216, 343, 512, 729], dtype=int32)"
      ]
     },
     "execution_count": 77,
     "metadata": {},
     "output_type": "execute_result"
    }
   ],
   "source": [
    "x = np.arange(10)**3\n",
    "\n",
    "x"
   ]
  },
  {
   "cell_type": "code",
   "execution_count": 79,
   "id": "8026da4c",
   "metadata": {},
   "outputs": [
    {
     "data": {
      "text/plain": [
       "64"
      ]
     },
     "execution_count": 79,
     "metadata": {},
     "output_type": "execute_result"
    }
   ],
   "source": [
    "x[4]  #element on index 4"
   ]
  },
  {
   "cell_type": "code",
   "execution_count": 81,
   "id": "13cc3a4c",
   "metadata": {},
   "outputs": [
    {
     "data": {
      "text/plain": [
       "216"
      ]
     },
     "execution_count": 81,
     "metadata": {},
     "output_type": "execute_result"
    }
   ],
   "source": [
    "x[-4]   #element on index 4 from bottom side of array"
   ]
  },
  {
   "cell_type": "markdown",
   "id": "a0665013",
   "metadata": {},
   "source": [
    "###### slice"
   ]
  },
  {
   "cell_type": "code",
   "execution_count": 82,
   "id": "bee5e8c7",
   "metadata": {},
   "outputs": [
    {
     "data": {
      "text/plain": [
       "array([  1,   8,  27,  64, 125, 216, 343], dtype=int32)"
      ]
     },
     "execution_count": 82,
     "metadata": {},
     "output_type": "execute_result"
    }
   ],
   "source": [
    "x[1:8]"
   ]
  },
  {
   "cell_type": "code",
   "execution_count": 83,
   "id": "846de2f9",
   "metadata": {},
   "outputs": [
    {
     "data": {
      "text/plain": [
       "array([ 27,  64, 125, 216], dtype=int32)"
      ]
     },
     "execution_count": 83,
     "metadata": {},
     "output_type": "execute_result"
    }
   ],
   "source": [
    "x[3:-3]"
   ]
  },
  {
   "cell_type": "code",
   "execution_count": 84,
   "id": "caaf95a8",
   "metadata": {},
   "outputs": [
    {
     "data": {
      "text/plain": [
       "array([  0,   1,   8,  27,  64, 125, 216, 343], dtype=int32)"
      ]
     },
     "execution_count": 84,
     "metadata": {},
     "output_type": "execute_result"
    }
   ],
   "source": [
    "x[ : 8]   #by default initial values is set 0 here"
   ]
  },
  {
   "cell_type": "code",
   "execution_count": 85,
   "id": "dfbe2f2a",
   "metadata": {},
   "outputs": [
    {
     "data": {
      "text/plain": [
       "array([ 27,  64, 125, 216, 343, 512, 729], dtype=int32)"
      ]
     },
     "execution_count": 85,
     "metadata": {},
     "output_type": "execute_result"
    }
   ],
   "source": [
    "x[3: ]   #by default last values is set last on an array here"
   ]
  },
  {
   "cell_type": "code",
   "execution_count": 86,
   "id": "04c812f8",
   "metadata": {},
   "outputs": [
    {
     "data": {
      "text/plain": [
       "array([  0,   8,  64, 216, 512], dtype=int32)"
      ]
     },
     "execution_count": 86,
     "metadata": {},
     "output_type": "execute_result"
    }
   ],
   "source": [
    "x[ :10:2]  #here array starts with o to 10th index with increments of 2"
   ]
  },
  {
   "cell_type": "code",
   "execution_count": 87,
   "id": "76d052fd",
   "metadata": {},
   "outputs": [
    {
     "data": {
      "text/plain": [
       "array([729, 512, 343, 216, 125,  64,  27,   8,   1,   0], dtype=int32)"
      ]
     },
     "execution_count": 87,
     "metadata": {},
     "output_type": "execute_result"
    }
   ],
   "source": [
    "x[ : : -1] #this will show array in reverse order"
   ]
  },
  {
   "cell_type": "code",
   "execution_count": 114,
   "id": "c117d165",
   "metadata": {},
   "outputs": [
    {
     "name": "stderr",
     "output_type": "stream",
     "text": [
      "C:\\Users\\adity\\AppData\\Local\\Temp/ipykernel_12540/1881488489.py:1: VisibleDeprecationWarning: Creating an ndarray from ragged nested sequences (which is a list-or-tuple of lists-or-tuples-or ndarrays with different lengths or shapes) is deprecated. If you meant to do this, you must specify 'dtype=object' when creating the ndarray.\n",
      "  companies = np.array([['samsung','microsoft','IBM','spotify','flipkart'],\n"
     ]
    }
   ],
   "source": [
    "companies = np.array([['samsung','microsoft','IBM','spotify','flipkart'],\n",
    "                      [ 1938, 1975, 2006, 2007],\n",
    "                      [489000, 131000, 3000, 30000]])\n"
   ]
  },
  {
   "cell_type": "code",
   "execution_count": 116,
   "id": "25f4a4bf",
   "metadata": {},
   "outputs": [
    {
     "data": {
      "text/plain": [
       "array([list(['samsung', 'microsoft', 'IBM', 'spotify', 'flipkart']),\n",
       "       list([1938, 1975, 2006, 2007]),\n",
       "       list([489000, 131000, 3000, 30000])], dtype=object)"
      ]
     },
     "execution_count": 116,
     "metadata": {},
     "output_type": "execute_result"
    }
   ],
   "source": [
    "companies"
   ]
  },
  {
   "cell_type": "markdown",
   "id": "6e500707",
   "metadata": {},
   "source": [
    "###### access 1st row of an array"
   ]
  },
  {
   "cell_type": "code",
   "execution_count": 105,
   "id": "c9d178de",
   "metadata": {},
   "outputs": [
    {
     "data": {
      "text/plain": [
       "('samsung', 'microsoft', 'IBM', 'spotify', 'flipkart')"
      ]
     },
     "execution_count": 105,
     "metadata": {},
     "output_type": "execute_result"
    }
   ],
   "source": [
    "companies[0]"
   ]
  },
  {
   "cell_type": "markdown",
   "id": "82e89744",
   "metadata": {},
   "source": [
    "###### to get a data from a specific column need to specifiy multi dimensional array"
   ]
  },
  {
   "cell_type": "code",
   "execution_count": 107,
   "id": "fe2b51d8",
   "metadata": {},
   "outputs": [
    {
     "ename": "IndexError",
     "evalue": "too many indices for array: array is 1-dimensional, but 2 were indexed",
     "output_type": "error",
     "traceback": [
      "\u001b[1;31m---------------------------------------------------------------------------\u001b[0m",
      "\u001b[1;31mIndexError\u001b[0m                                Traceback (most recent call last)",
      "\u001b[1;32m~\\AppData\\Local\\Temp/ipykernel_12540/1689900773.py\u001b[0m in \u001b[0;36m<module>\u001b[1;34m\u001b[0m\n\u001b[1;32m----> 1\u001b[1;33m \u001b[0mcompanies\u001b[0m\u001b[1;33m[\u001b[0m\u001b[1;33m:\u001b[0m\u001b[1;33m,\u001b[0m \u001b[1;36m2\u001b[0m\u001b[1;33m]\u001b[0m\u001b[1;33m\u001b[0m\u001b[1;33m\u001b[0m\u001b[0m\n\u001b[0m",
      "\u001b[1;31mIndexError\u001b[0m: too many indices for array: array is 1-dimensional, but 2 were indexed"
     ]
    }
   ],
   "source": [
    "companies[:, 2]"
   ]
  },
  {
   "cell_type": "markdown",
   "id": "46a31b07",
   "metadata": {},
   "source": [
    "###### to access particular cell"
   ]
  },
  {
   "cell_type": "code",
   "execution_count": 99,
   "id": "2e75c785",
   "metadata": {},
   "outputs": [
    {
     "ename": "IndexError",
     "evalue": "too many indices for array: array is 1-dimensional, but 2 were indexed",
     "output_type": "error",
     "traceback": [
      "\u001b[1;31m---------------------------------------------------------------------------\u001b[0m",
      "\u001b[1;31mIndexError\u001b[0m                                Traceback (most recent call last)",
      "\u001b[1;32m~\\AppData\\Local\\Temp/ipykernel_12540/3842462957.py\u001b[0m in \u001b[0;36m<module>\u001b[1;34m\u001b[0m\n\u001b[1;32m----> 1\u001b[1;33m \u001b[0mcompanies\u001b[0m\u001b[1;33m[\u001b[0m\u001b[1;36m0\u001b[0m\u001b[1;33m,\u001b[0m \u001b[1;36m2\u001b[0m\u001b[1;33m]\u001b[0m\u001b[1;33m\u001b[0m\u001b[1;33m\u001b[0m\u001b[0m\n\u001b[0m",
      "\u001b[1;31mIndexError\u001b[0m: too many indices for array: array is 1-dimensional, but 2 were indexed"
     ]
    }
   ],
   "source": [
    "companies[0, 2]"
   ]
  },
  {
   "cell_type": "markdown",
   "id": "738efcc0",
   "metadata": {},
   "source": [
    "# Iterating over Arrays\n"
   ]
  },
  {
   "cell_type": "code",
   "execution_count": 117,
   "id": "9a239beb",
   "metadata": {},
   "outputs": [
    {
     "data": {
      "text/plain": [
       "array([  0,   1,   8,  27,  64, 125, 216, 343, 512, 729], dtype=int32)"
      ]
     },
     "execution_count": 117,
     "metadata": {},
     "output_type": "execute_result"
    }
   ],
   "source": [
    "x = np.arange(10)**3\n",
    "\n",
    "x"
   ]
  },
  {
   "cell_type": "code",
   "execution_count": 118,
   "id": "40747743",
   "metadata": {},
   "outputs": [
    {
     "name": "stdout",
     "output_type": "stream",
     "text": [
      "0\n",
      "1\n",
      "8\n",
      "27\n",
      "64\n",
      "125\n",
      "216\n",
      "343\n",
      "512\n",
      "729\n"
     ]
    }
   ],
   "source": [
    "for i in x :\n",
    "    print(i)"
   ]
  },
  {
   "cell_type": "code",
   "execution_count": 119,
   "id": "845f063a",
   "metadata": {},
   "outputs": [],
   "source": [
    "companies = np.array([['samsung','microsoft','IBM','spotify','flipkart'],\n",
    "                     [1938,1975,1911,2006,2007],\n",
    "                     [489000,131000,380000,3000,30000]])"
   ]
  },
  {
   "cell_type": "code",
   "execution_count": 120,
   "id": "75739346",
   "metadata": {},
   "outputs": [
    {
     "data": {
      "text/plain": [
       "array([['samsung', 'microsoft', 'IBM', 'spotify', 'flipkart'],\n",
       "       ['1938', '1975', '1911', '2006', '2007'],\n",
       "       ['489000', '131000', '380000', '3000', '30000']], dtype='<U11')"
      ]
     },
     "execution_count": 120,
     "metadata": {},
     "output_type": "execute_result"
    }
   ],
   "source": [
    "companies"
   ]
  },
  {
   "cell_type": "code",
   "execution_count": 122,
   "id": "5e0e16ff",
   "metadata": {},
   "outputs": [
    {
     "name": "stdout",
     "output_type": "stream",
     "text": [
      "Row 0 : ['samsung' 'microsoft' 'IBM' 'spotify' 'flipkart']\n",
      "Row 1 : ['1938' '1975' '1911' '2006' '2007']\n",
      "Row 2 : ['489000' '131000' '380000' '3000' '30000']\n"
     ]
    }
   ],
   "source": [
    "i = 0\n",
    "for row in companies:\n",
    "    print('Row',i,':',row)\n",
    "    i += 1"
   ]
  },
  {
   "cell_type": "markdown",
   "id": "f477ce41",
   "metadata": {},
   "source": [
    "###### Flatten funtion (converts 2d arrays into single array)"
   ]
  },
  {
   "cell_type": "code",
   "execution_count": 123,
   "id": "302037f5",
   "metadata": {},
   "outputs": [
    {
     "data": {
      "text/plain": [
       "array(['samsung', 'microsoft', 'IBM', 'spotify', 'flipkart', '1938',\n",
       "       '1975', '1911', '2006', '2007', '489000', '131000', '380000',\n",
       "       '3000', '30000'], dtype='<U11')"
      ]
     },
     "execution_count": 123,
     "metadata": {},
     "output_type": "execute_result"
    }
   ],
   "source": [
    "companies.flatten() #row wise order"
   ]
  },
  {
   "cell_type": "code",
   "execution_count": 125,
   "id": "e4154ddf",
   "metadata": {},
   "outputs": [
    {
     "name": "stdout",
     "output_type": "stream",
     "text": [
      "samsung\n",
      "1938\n",
      "489000\n",
      "microsoft\n",
      "1975\n",
      "131000\n",
      "IBM\n",
      "1911\n",
      "380000\n",
      "spotify\n",
      "2006\n",
      "3000\n",
      "flipkart\n",
      "2007\n",
      "30000\n"
     ]
    }
   ],
   "source": [
    "for data in companies.flatten(order = 'F'):\n",
    " print (data)   #F stands for Fortran style ordering"
   ]
  },
  {
   "cell_type": "markdown",
   "id": "7ad51138",
   "metadata": {},
   "source": [
    "###### nditer "
   ]
  },
  {
   "cell_type": "code",
   "execution_count": 126,
   "id": "528a3128",
   "metadata": {},
   "outputs": [
    {
     "data": {
      "text/plain": [
       "array([[ 0,  1,  2,  3],\n",
       "       [ 4,  5,  6,  7],\n",
       "       [ 8,  9, 10, 11],\n",
       "       [12, 13, 14, 15]])"
      ]
     },
     "execution_count": 126,
     "metadata": {},
     "output_type": "execute_result"
    }
   ],
   "source": [
    "num = np.arange(16).reshape(4,4)\n",
    "\n",
    "num"
   ]
  },
  {
   "cell_type": "code",
   "execution_count": 127,
   "id": "679ce144",
   "metadata": {},
   "outputs": [
    {
     "name": "stdout",
     "output_type": "stream",
     "text": [
      "0\n",
      "1\n",
      "2\n",
      "3\n",
      "4\n",
      "5\n",
      "6\n",
      "7\n",
      "8\n",
      "9\n",
      "10\n",
      "11\n",
      "12\n",
      "13\n",
      "14\n",
      "15\n"
     ]
    }
   ],
   "source": [
    "for i in np.nditer(num):\n",
    "    print(i)   #for c style iterating"
   ]
  },
  {
   "cell_type": "code",
   "execution_count": 128,
   "id": "e95f0b89",
   "metadata": {},
   "outputs": [
    {
     "name": "stdout",
     "output_type": "stream",
     "text": [
      "[ 0  4  8 12]\n",
      "[ 1  5  9 13]\n",
      "[ 2  6 10 14]\n",
      "[ 3  7 11 15]\n"
     ]
    }
   ],
   "source": [
    "for i in np.nditer(num, order = 'F', flags = ['external_loop']):\n",
    "    print(i)   #fortron style iterating"
   ]
  },
  {
   "cell_type": "markdown",
   "id": "36c7d38f",
   "metadata": {},
   "source": [
    "# Reshaping Arrays"
   ]
  },
  {
   "cell_type": "code",
   "execution_count": 129,
   "id": "0bd8c709",
   "metadata": {},
   "outputs": [
    {
     "data": {
      "text/plain": [
       "array([['IBM', 'APPLE', 'INTEL', 'DELL', 'MICROSOFT'],\n",
       "       ['NEW YORK', 'CALIFORNIA', 'CALIFORNIA', 'TEXAS', 'WASHINGTON']],\n",
       "      dtype='<U10')"
      ]
     },
     "execution_count": 129,
     "metadata": {},
     "output_type": "execute_result"
    }
   ],
   "source": [
    "tech_companies = np.array([('IBM','APPLE','INTEL','DELL','MICROSOFT'),\n",
    "                          ('NEW YORK','CALIFORNIA','CALIFORNIA','TEXAS','WASHINGTON')])\n",
    "\n",
    "tech_companies"
   ]
  },
  {
   "cell_type": "markdown",
   "id": "307abb99",
   "metadata": {},
   "source": [
    "###### shape of an array"
   ]
  },
  {
   "cell_type": "code",
   "execution_count": 130,
   "id": "61306538",
   "metadata": {},
   "outputs": [
    {
     "data": {
      "text/plain": [
       "(2, 5)"
      ]
     },
     "execution_count": 130,
     "metadata": {},
     "output_type": "execute_result"
    }
   ],
   "source": [
    "tech_companies.shape"
   ]
  },
  {
   "cell_type": "markdown",
   "id": "6d30eaca",
   "metadata": {},
   "source": [
    "###### ravel function(reduces multi dimensioanl array to single directional array ,same as flatten function)"
   ]
  },
  {
   "cell_type": "code",
   "execution_count": 131,
   "id": "a7813938",
   "metadata": {},
   "outputs": [
    {
     "data": {
      "text/plain": [
       "array(['IBM', 'APPLE', 'INTEL', 'DELL', 'MICROSOFT', 'NEW YORK',\n",
       "       'CALIFORNIA', 'CALIFORNIA', 'TEXAS', 'WASHINGTON'], dtype='<U10')"
      ]
     },
     "execution_count": 131,
     "metadata": {},
     "output_type": "execute_result"
    }
   ],
   "source": [
    "tech_companies.ravel()"
   ]
  },
  {
   "cell_type": "markdown",
   "id": "36c75f42",
   "metadata": {},
   "source": [
    "###### transpose (converts rows into columns and vice versa"
   ]
  },
  {
   "cell_type": "code",
   "execution_count": 132,
   "id": "bede6bb9",
   "metadata": {},
   "outputs": [
    {
     "data": {
      "text/plain": [
       "array([['IBM', 'NEW YORK'],\n",
       "       ['APPLE', 'CALIFORNIA'],\n",
       "       ['INTEL', 'CALIFORNIA'],\n",
       "       ['DELL', 'TEXAS'],\n",
       "       ['MICROSOFT', 'WASHINGTON']], dtype='<U10')"
      ]
     },
     "execution_count": 132,
     "metadata": {},
     "output_type": "execute_result"
    }
   ],
   "source": [
    "tech_companies.T"
   ]
  },
  {
   "cell_type": "markdown",
   "id": "e0a5e5f6",
   "metadata": {},
   "source": [
    "###### flattening/raveling of a transpose array"
   ]
  },
  {
   "cell_type": "code",
   "execution_count": 133,
   "id": "7ec4457b",
   "metadata": {},
   "outputs": [
    {
     "data": {
      "text/plain": [
       "array(['IBM', 'NEW YORK', 'APPLE', 'CALIFORNIA', 'INTEL', 'CALIFORNIA',\n",
       "       'DELL', 'TEXAS', 'MICROSOFT', 'WASHINGTON'], dtype='<U10')"
      ]
     },
     "execution_count": 133,
     "metadata": {},
     "output_type": "execute_result"
    }
   ],
   "source": [
    "tech_companies.T.ravel()"
   ]
  },
  {
   "cell_type": "markdown",
   "id": "cc760086",
   "metadata": {},
   "source": [
    "###### reshaping of an array"
   ]
  },
  {
   "cell_type": "code",
   "execution_count": 135,
   "id": "7c82b702",
   "metadata": {},
   "outputs": [
    {
     "data": {
      "text/plain": [
       "(2, 5)"
      ]
     },
     "execution_count": 135,
     "metadata": {},
     "output_type": "execute_result"
    }
   ],
   "source": [
    "tech_companies.shape"
   ]
  },
  {
   "cell_type": "code",
   "execution_count": 136,
   "id": "5ae65fb0",
   "metadata": {},
   "outputs": [
    {
     "data": {
      "text/plain": [
       "array([['IBM', 'APPLE'],\n",
       "       ['INTEL', 'DELL'],\n",
       "       ['MICROSOFT', 'NEW YORK'],\n",
       "       ['CALIFORNIA', 'CALIFORNIA'],\n",
       "       ['TEXAS', 'WASHINGTON']], dtype='<U10')"
      ]
     },
     "execution_count": 136,
     "metadata": {},
     "output_type": "execute_result"
    }
   ],
   "source": [
    "tech_companies.reshape(5,2)"
   ]
  },
  {
   "cell_type": "code",
   "execution_count": 138,
   "id": "ce295a4f",
   "metadata": {},
   "outputs": [
    {
     "data": {
      "text/plain": [
       "array([[ 0,  1,  2,  3,  4,  5],\n",
       "       [ 6,  7,  8,  9, 10, 11],\n",
       "       [12, 13, 14, 15, 16, 17]])"
      ]
     },
     "execution_count": 138,
     "metadata": {},
     "output_type": "execute_result"
    }
   ],
   "source": [
    "np.arange(18).reshape(3,6)  #3 rows and 6 columns"
   ]
  },
  {
   "cell_type": "markdown",
   "id": "24b21d5e",
   "metadata": {},
   "source": [
    "###### reshape operation with negative value"
   ]
  },
  {
   "cell_type": "code",
   "execution_count": 139,
   "id": "b66ea487",
   "metadata": {},
   "outputs": [
    {
     "data": {
      "text/plain": [
       "array(['IBM', 'APPLE', 'INTEL', 'SONY', 'MICROSOFT', 'HP', 'HITACHI',\n",
       "       'PANASONIC'], dtype='<U9')"
      ]
     },
     "execution_count": 139,
     "metadata": {},
     "output_type": "execute_result"
    }
   ],
   "source": [
    "companies = np.array(['IBM','APPLE','INTEL',\n",
    "                     'SONY','MICROSOFT','HP',\n",
    "                     'HITACHI','PANASONIC'])\n",
    "\n",
    "companies"
   ]
  },
  {
   "cell_type": "code",
   "execution_count": 140,
   "id": "144d044b",
   "metadata": {},
   "outputs": [
    {
     "data": {
      "text/plain": [
       "array([['IBM', 'APPLE', 'INTEL', 'SONY'],\n",
       "       ['MICROSOFT', 'HP', 'HITACHI', 'PANASONIC']], dtype='<U9')"
      ]
     },
     "execution_count": 140,
     "metadata": {},
     "output_type": "execute_result"
    }
   ],
   "source": [
    "companies.reshape(-1,4)"
   ]
  },
  {
   "cell_type": "code",
   "execution_count": 141,
   "id": "614a5f36",
   "metadata": {},
   "outputs": [
    {
     "data": {
      "text/plain": [
       "array([['IBM', 'APPLE'],\n",
       "       ['INTEL', 'SONY'],\n",
       "       ['MICROSOFT', 'HP'],\n",
       "       ['HITACHI', 'PANASONIC']], dtype='<U9')"
      ]
     },
     "execution_count": 141,
     "metadata": {},
     "output_type": "execute_result"
    }
   ],
   "source": [
    "companies.reshape(4,-1)"
   ]
  },
  {
   "cell_type": "code",
   "execution_count": null,
   "id": "ae043315",
   "metadata": {},
   "outputs": [],
   "source": []
  }
 ],
 "metadata": {
  "kernelspec": {
   "display_name": "Python 3 (ipykernel)",
   "language": "python",
   "name": "python3"
  },
  "language_info": {
   "codemirror_mode": {
    "name": "ipython",
    "version": 3
   },
   "file_extension": ".py",
   "mimetype": "text/x-python",
   "name": "python",
   "nbconvert_exporter": "python",
   "pygments_lexer": "ipython3",
   "version": "3.9.7"
  }
 },
 "nbformat": 4,
 "nbformat_minor": 5
}
